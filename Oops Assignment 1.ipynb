{
 "cells": [
  {
   "cell_type": "raw",
   "id": "e0905f3b-b884-4bea-92c5-7b1dfe5fbcaf",
   "metadata": {},
   "source": [
    "Q1. Explain Class and Object with respect to Object-Oriented Programming. Give a suitable example."
   ]
  },
  {
   "cell_type": "code",
   "execution_count": 6,
   "id": "b5213eaa-b42c-462c-9a67-c5ff2eecbae8",
   "metadata": {},
   "outputs": [
    {
     "name": "stdout",
     "output_type": "stream",
     "text": [
      "My Tiger's name is King and it is : roaring!\n"
     ]
    }
   ],
   "source": [
    "# ANS : In object-oriented programming (OOP), a class and an object are fundamental concepts that help structure and organize code.\n",
    "# class is a blueprint or template for creating objects,Classes encapsulate data and behavior related to a specific concept or entity in your program.\n",
    "# An object is an instance of a class. It represents a concrete instantiation of the attributes and behaviors defined by the class.\n",
    "#Objects allow you to model and interact with real-world entities in your program.\n",
    "\n",
    "class tiger:\n",
    "    def __init__(self, name, age):\n",
    "        self.name = name\n",
    "        self.age = age\n",
    "\n",
    "    def roar(self):\n",
    "        return \"roaring!\"\n",
    "\n",
    "my_tiger = tiger(name=\"King\", age=8)\n",
    "\n",
    "print(f\"My Tiger's name is {my_tiger.name} and it is : {my_tiger.roar()}\")\n",
    "\n"
   ]
  },
  {
   "cell_type": "raw",
   "id": "6b9940a8-15b8-4b99-ba26-d01e9433814c",
   "metadata": {},
   "source": [
    "Q2. Name the four pillars of OOPs.\n",
    "\n",
    "# ANS : Encapsulation , Polymorphism, Inheritance, Abstraction"
   ]
  },
  {
   "cell_type": "raw",
   "id": "494389a5-dd3e-4e35-8e1a-9d38f34411d3",
   "metadata": {},
   "source": [
    "Q3. Explain why the __init__() function is used. Give a suitable example."
   ]
  },
  {
   "cell_type": "code",
   "execution_count": 1,
   "id": "ee8094f9-5cde-4977-917f-8da8ad44396f",
   "metadata": {},
   "outputs": [
    {
     "name": "stdout",
     "output_type": "stream",
     "text": [
      "Ramanan is 55 years old.\n",
      "Kalam is 55 years old.\n"
     ]
    }
   ],
   "source": [
    "# ANS : It is constructor,this is automatically called when an object is created from a class,\n",
    "# This method allows you to set initial values for the object's attributes during the instantiation process.\n",
    "\n",
    "class Teacher:\n",
    "    def __init__(self, name, age):\n",
    "       \n",
    "        self.name = name\n",
    "        self.age = age\n",
    "\n",
    "\n",
    "Teacher1 = Teacher(name=\"Ramanan\", age=55)\n",
    "Teacher2 = Teacher(name=\"Kalam\", age=55)\n",
    "\n",
    "\n",
    "print(f\"{Teacher1.name} is {Teacher1.age} years old.\")\n",
    "print(f\"{Teacher2.name} is {Teacher2.age} years old.\")\n"
   ]
  },
  {
   "cell_type": "raw",
   "id": "f5ae4b64-53d7-467c-924b-b871922b3912",
   "metadata": {},
   "source": [
    "Q4. Why self is used in OOPs?\n",
    "\n",
    "ANS : self is a convention used to represent the instance of the class. It is the first parameter in the definition of methods within a class and refers to the instance on which the method is called,self refers to the instance of the class, allowing methods to access and manipulate the object's attributes."
   ]
  },
  {
   "cell_type": "raw",
   "id": "1d8c3d61-ab0c-48cc-8b29-3b49a4c13fa5",
   "metadata": {},
   "source": [
    "Q5. What is inheritance? Give an example for each type of inheritance."
   ]
  },
  {
   "cell_type": "code",
   "execution_count": 6,
   "id": "b2fa6da7-f721-402c-b0c7-6b8ff438cd8d",
   "metadata": {},
   "outputs": [
    {
     "name": "stdout",
     "output_type": "stream",
     "text": [
      "Animal speaks\n",
      "Dog barks\n",
      "Bird chirps\n",
      "Mammal walks\n",
      "Bat flies\n",
      "Animal speaks\n",
      "Dog barks\n",
      "German Shepherd guards\n",
      "Shape drawn\n",
      "Circle area calculated\n",
      "Shape drawn\n",
      "Square area calculated\n"
     ]
    }
   ],
   "source": [
    "# ANS :  Inheritance is a mechanism that allows a new class ,subclass to inherit properties and behaviors from an existing class (base class or parent class).\n",
    "# The subclass can then extend or override these inherited features.\n",
    "# 1.Single Inheritance, 2. Multiple Inheritance, 3.Multilevel Inheritance, 4.Hierarchical Inheritance.\n",
    "\n",
    "#1.Single Inheritance:\n",
    "\n",
    "class Animal:\n",
    "    def speak(self):\n",
    "        return \"Animal speaks\"\n",
    "\n",
    "class Dog(Animal):\n",
    "    def bark(self):\n",
    "        return \"Dog barks\"\n",
    "\n",
    "# Example usage\n",
    "my_dog = Dog()\n",
    "print(my_dog.speak())  \n",
    "print(my_dog.bark())   \n",
    "\n",
    "# Output: Animal speaks\n",
    "# Output: Dog barks\n",
    "\n",
    "# 2. Multiple Inheritance\n",
    "\n",
    "class Bird:\n",
    "    def chirp(self):\n",
    "        return \"Bird chirps\"\n",
    "\n",
    "class Mammal:\n",
    "    def walk(self):\n",
    "        return \"Mammal walks\"\n",
    "\n",
    "class Bat(Bird, Mammal):\n",
    "    def fly(self):\n",
    "        return \"Bat flies\"\n",
    "\n",
    "# Example usage\n",
    "my_bat = Bat()\n",
    "print(my_bat.chirp())  \n",
    "print(my_bat.walk())   \n",
    "print(my_bat.fly())   \n",
    "\n",
    "# Output: Bird chirps\n",
    "# Output: Mammal walks\n",
    "# Output: Bat flies\n",
    "\n",
    "#3.Multilevel Inheritance\n",
    "\n",
    "class Animal:\n",
    "    def speak(self):\n",
    "        return \"Animal speaks\"\n",
    "\n",
    "class Dog(Animal):\n",
    "    def bark(self):\n",
    "        return \"Dog barks\"\n",
    "\n",
    "class GermanShepherd(Dog):\n",
    "    def guard(self):\n",
    "        return \"German Shepherd guards\"\n",
    "\n",
    "# Example usage\n",
    "my_dog = GermanShepherd()\n",
    "print(my_dog.speak())   \n",
    "print(my_dog.bark())   \n",
    "print(my_dog.guard())   \n",
    "\n",
    "# Output: Animal speaks  \n",
    "# Output: Dog barks    \n",
    "# Output: German Shepherd guards    \n",
    "    \n",
    "#4.Hierarchical Inheritance.\n",
    "\n",
    "class Shape:\n",
    "    def draw(self):\n",
    "        return \"Shape drawn\"\n",
    "\n",
    "class Circle(Shape):\n",
    "    def calculate_area(self):\n",
    "        return \"Circle area calculated\"\n",
    "\n",
    "class Square(Shape):\n",
    "    def calculate_area(self):\n",
    "        return \"Square area calculated\"\n",
    "\n",
    "# Example usage\n",
    "my_circle = Circle()\n",
    "my_square = Square()\n",
    "\n",
    "print(my_circle.draw())          # Output: Shape drawn\n",
    "print(my_circle.calculate_area()) # Output: Circle area calculated\n",
    "\n",
    "print(my_square.draw())           # Output: Shape drawn\n",
    "print(my_square.calculate_area())  # Output: Square area calculated\n",
    "\n",
    "\n"
   ]
  },
  {
   "cell_type": "code",
   "execution_count": null,
   "id": "20d76118-3667-45f4-b4cc-b4f305cd8e69",
   "metadata": {},
   "outputs": [],
   "source": []
  },
  {
   "cell_type": "code",
   "execution_count": null,
   "id": "714a5a7f-92e2-4eae-8c55-e25fdd9f4221",
   "metadata": {},
   "outputs": [],
   "source": []
  },
  {
   "cell_type": "code",
   "execution_count": null,
   "id": "246395e0-aa02-4c92-8fa9-9fd21e778a95",
   "metadata": {},
   "outputs": [],
   "source": []
  },
  {
   "cell_type": "code",
   "execution_count": null,
   "id": "e2ca258e-cdfc-438c-b4d3-df25bef82c4d",
   "metadata": {},
   "outputs": [],
   "source": []
  },
  {
   "cell_type": "code",
   "execution_count": null,
   "id": "98dcbe59-e2c0-48a8-8eec-ae904d8fd26e",
   "metadata": {},
   "outputs": [],
   "source": []
  }
 ],
 "metadata": {
  "kernelspec": {
   "display_name": "Python 3 (ipykernel)",
   "language": "python",
   "name": "python3"
  },
  "language_info": {
   "codemirror_mode": {
    "name": "ipython",
    "version": 3
   },
   "file_extension": ".py",
   "mimetype": "text/x-python",
   "name": "python",
   "nbconvert_exporter": "python",
   "pygments_lexer": "ipython3",
   "version": "3.10.8"
  }
 },
 "nbformat": 4,
 "nbformat_minor": 5
}
